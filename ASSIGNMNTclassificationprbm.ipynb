{
  "cells": [
    {
      "cell_type": "markdown",
      "metadata": {
        "id": "view-in-github",
        "colab_type": "text"
      },
      "source": [
        "<a href=\"https://colab.research.google.com/github/drishyatv/classificaton-problem/blob/main/ASSIGNMNTclassificationprbm.ipynb\" target=\"_parent\"><img src=\"https://colab.research.google.com/assets/colab-badge.svg\" alt=\"Open In Colab\"/></a>"
      ]
    },
    {
      "cell_type": "markdown",
      "id": "15cbf149-ab75-4f7a-9852-4dadc4f0631f",
      "metadata": {
        "id": "15cbf149-ab75-4f7a-9852-4dadc4f0631f"
      },
      "source": [
        "1. Loading and Preprocessing"
      ]
    },
    {
      "cell_type": "code",
      "execution_count": null,
      "id": "3125e80a-19ee-4a71-aee1-1db8891f22fc",
      "metadata": {
        "id": "3125e80a-19ee-4a71-aee1-1db8891f22fc"
      },
      "outputs": [],
      "source": [
        " from sklearn.datasets import load_breast_cancer\n",
        "import pandas as pd\n",
        "import numpy as np\n",
        "\n",
        "# Load dataset\n",
        "data = load_breast_cancer()\n",
        "df = pd.DataFrame(data.data, columns=data.feature_names)\n",
        "df['target'] = data.target\n"
      ]
    },
    {
      "cell_type": "code",
      "execution_count": null,
      "id": "913fb4d1-a914-40b7-9b97-fea8084869bb",
      "metadata": {
        "id": "913fb4d1-a914-40b7-9b97-fea8084869bb",
        "outputId": "e88f7563-8410-439f-bf26-8edec5991532"
      },
      "outputs": [
        {
          "name": "stdout",
          "output_type": "stream",
          "text": [
            "mean radius                0\n",
            "mean texture               0\n",
            "mean perimeter             0\n",
            "mean area                  0\n",
            "mean smoothness            0\n",
            "mean compactness           0\n",
            "mean concavity             0\n",
            "mean concave points        0\n",
            "mean symmetry              0\n",
            "mean fractal dimension     0\n",
            "radius error               0\n",
            "texture error              0\n",
            "perimeter error            0\n",
            "area error                 0\n",
            "smoothness error           0\n",
            "compactness error          0\n",
            "concavity error            0\n",
            "concave points error       0\n",
            "symmetry error             0\n",
            "fractal dimension error    0\n",
            "worst radius               0\n",
            "worst texture              0\n",
            "worst perimeter            0\n",
            "worst area                 0\n",
            "worst smoothness           0\n",
            "worst compactness          0\n",
            "worst concavity            0\n",
            "worst concave points       0\n",
            "worst symmetry             0\n",
            "worst fractal dimension    0\n",
            "target                     0\n",
            "dtype: int64\n"
          ]
        }
      ],
      "source": [
        "print(df.isnull().sum())    #Check for Missing Values\n"
      ]
    },
    {
      "cell_type": "code",
      "execution_count": null,
      "id": "adb0e949-4480-49cf-9b52-0eb42dd77acc",
      "metadata": {
        "id": "adb0e949-4480-49cf-9b52-0eb42dd77acc"
      },
      "outputs": [],
      "source": [
        "from sklearn.preprocessing import StandardScaler\n",
        "\n",
        "X = df.drop('target', axis=1)              # Feature Scaling\n",
        "y = df['target']\n",
        "\n",
        "scaler = StandardScaler()\n",
        "X_scaled = scaler.fit_transform(X)\n"
      ]
    },
    {
      "cell_type": "code",
      "execution_count": null,
      "id": "ce8d6d94-22ea-4c8d-8bfd-91ae964a5ea2",
      "metadata": {
        "id": "ce8d6d94-22ea-4c8d-8bfd-91ae964a5ea2",
        "outputId": "d027071f-97fe-4d91-a8b4-99e2eefa7f41"
      },
      "outputs": [
        {
          "data": {
            "text/html": [
              "<div>\n",
              "<style scoped>\n",
              "    .dataframe tbody tr th:only-of-type {\n",
              "        vertical-align: middle;\n",
              "    }\n",
              "\n",
              "    .dataframe tbody tr th {\n",
              "        vertical-align: top;\n",
              "    }\n",
              "\n",
              "    .dataframe thead th {\n",
              "        text-align: right;\n",
              "    }\n",
              "</style>\n",
              "<table border=\"1\" class=\"dataframe\">\n",
              "  <thead>\n",
              "    <tr style=\"text-align: right;\">\n",
              "      <th></th>\n",
              "      <th>mean radius</th>\n",
              "      <th>mean texture</th>\n",
              "      <th>mean perimeter</th>\n",
              "      <th>mean area</th>\n",
              "      <th>mean smoothness</th>\n",
              "      <th>mean compactness</th>\n",
              "      <th>mean concavity</th>\n",
              "      <th>mean concave points</th>\n",
              "      <th>mean symmetry</th>\n",
              "      <th>mean fractal dimension</th>\n",
              "      <th>...</th>\n",
              "      <th>worst radius</th>\n",
              "      <th>worst texture</th>\n",
              "      <th>worst perimeter</th>\n",
              "      <th>worst area</th>\n",
              "      <th>worst smoothness</th>\n",
              "      <th>worst compactness</th>\n",
              "      <th>worst concavity</th>\n",
              "      <th>worst concave points</th>\n",
              "      <th>worst symmetry</th>\n",
              "      <th>worst fractal dimension</th>\n",
              "    </tr>\n",
              "  </thead>\n",
              "  <tbody>\n",
              "    <tr>\n",
              "      <th>0</th>\n",
              "      <td>1.097064</td>\n",
              "      <td>-2.073335</td>\n",
              "      <td>1.269934</td>\n",
              "      <td>0.984375</td>\n",
              "      <td>1.568466</td>\n",
              "      <td>3.283515</td>\n",
              "      <td>2.652874</td>\n",
              "      <td>2.532475</td>\n",
              "      <td>2.217515</td>\n",
              "      <td>2.255747</td>\n",
              "      <td>...</td>\n",
              "      <td>1.886690</td>\n",
              "      <td>-1.359293</td>\n",
              "      <td>2.303601</td>\n",
              "      <td>2.001237</td>\n",
              "      <td>1.307686</td>\n",
              "      <td>2.616665</td>\n",
              "      <td>2.109526</td>\n",
              "      <td>2.296076</td>\n",
              "      <td>2.750622</td>\n",
              "      <td>1.937015</td>\n",
              "    </tr>\n",
              "    <tr>\n",
              "      <th>1</th>\n",
              "      <td>1.829821</td>\n",
              "      <td>-0.353632</td>\n",
              "      <td>1.685955</td>\n",
              "      <td>1.908708</td>\n",
              "      <td>-0.826962</td>\n",
              "      <td>-0.487072</td>\n",
              "      <td>-0.023846</td>\n",
              "      <td>0.548144</td>\n",
              "      <td>0.001392</td>\n",
              "      <td>-0.868652</td>\n",
              "      <td>...</td>\n",
              "      <td>1.805927</td>\n",
              "      <td>-0.369203</td>\n",
              "      <td>1.535126</td>\n",
              "      <td>1.890489</td>\n",
              "      <td>-0.375612</td>\n",
              "      <td>-0.430444</td>\n",
              "      <td>-0.146749</td>\n",
              "      <td>1.087084</td>\n",
              "      <td>-0.243890</td>\n",
              "      <td>0.281190</td>\n",
              "    </tr>\n",
              "    <tr>\n",
              "      <th>2</th>\n",
              "      <td>1.579888</td>\n",
              "      <td>0.456187</td>\n",
              "      <td>1.566503</td>\n",
              "      <td>1.558884</td>\n",
              "      <td>0.942210</td>\n",
              "      <td>1.052926</td>\n",
              "      <td>1.363478</td>\n",
              "      <td>2.037231</td>\n",
              "      <td>0.939685</td>\n",
              "      <td>-0.398008</td>\n",
              "      <td>...</td>\n",
              "      <td>1.511870</td>\n",
              "      <td>-0.023974</td>\n",
              "      <td>1.347475</td>\n",
              "      <td>1.456285</td>\n",
              "      <td>0.527407</td>\n",
              "      <td>1.082932</td>\n",
              "      <td>0.854974</td>\n",
              "      <td>1.955000</td>\n",
              "      <td>1.152255</td>\n",
              "      <td>0.201391</td>\n",
              "    </tr>\n",
              "    <tr>\n",
              "      <th>3</th>\n",
              "      <td>-0.768909</td>\n",
              "      <td>0.253732</td>\n",
              "      <td>-0.592687</td>\n",
              "      <td>-0.764464</td>\n",
              "      <td>3.283553</td>\n",
              "      <td>3.402909</td>\n",
              "      <td>1.915897</td>\n",
              "      <td>1.451707</td>\n",
              "      <td>2.867383</td>\n",
              "      <td>4.910919</td>\n",
              "      <td>...</td>\n",
              "      <td>-0.281464</td>\n",
              "      <td>0.133984</td>\n",
              "      <td>-0.249939</td>\n",
              "      <td>-0.550021</td>\n",
              "      <td>3.394275</td>\n",
              "      <td>3.893397</td>\n",
              "      <td>1.989588</td>\n",
              "      <td>2.175786</td>\n",
              "      <td>6.046041</td>\n",
              "      <td>4.935010</td>\n",
              "    </tr>\n",
              "    <tr>\n",
              "      <th>4</th>\n",
              "      <td>1.750297</td>\n",
              "      <td>-1.151816</td>\n",
              "      <td>1.776573</td>\n",
              "      <td>1.826229</td>\n",
              "      <td>0.280372</td>\n",
              "      <td>0.539340</td>\n",
              "      <td>1.371011</td>\n",
              "      <td>1.428493</td>\n",
              "      <td>-0.009560</td>\n",
              "      <td>-0.562450</td>\n",
              "      <td>...</td>\n",
              "      <td>1.298575</td>\n",
              "      <td>-1.466770</td>\n",
              "      <td>1.338539</td>\n",
              "      <td>1.220724</td>\n",
              "      <td>0.220556</td>\n",
              "      <td>-0.313395</td>\n",
              "      <td>0.613179</td>\n",
              "      <td>0.729259</td>\n",
              "      <td>-0.868353</td>\n",
              "      <td>-0.397100</td>\n",
              "    </tr>\n",
              "  </tbody>\n",
              "</table>\n",
              "<p>5 rows × 30 columns</p>\n",
              "</div>"
            ],
            "text/plain": [
              "   mean radius  mean texture  mean perimeter  mean area  mean smoothness  \\\n",
              "0     1.097064     -2.073335        1.269934   0.984375         1.568466   \n",
              "1     1.829821     -0.353632        1.685955   1.908708        -0.826962   \n",
              "2     1.579888      0.456187        1.566503   1.558884         0.942210   \n",
              "3    -0.768909      0.253732       -0.592687  -0.764464         3.283553   \n",
              "4     1.750297     -1.151816        1.776573   1.826229         0.280372   \n",
              "\n",
              "   mean compactness  mean concavity  mean concave points  mean symmetry  \\\n",
              "0          3.283515        2.652874             2.532475       2.217515   \n",
              "1         -0.487072       -0.023846             0.548144       0.001392   \n",
              "2          1.052926        1.363478             2.037231       0.939685   \n",
              "3          3.402909        1.915897             1.451707       2.867383   \n",
              "4          0.539340        1.371011             1.428493      -0.009560   \n",
              "\n",
              "   mean fractal dimension  ...  worst radius  worst texture  worst perimeter  \\\n",
              "0                2.255747  ...      1.886690      -1.359293         2.303601   \n",
              "1               -0.868652  ...      1.805927      -0.369203         1.535126   \n",
              "2               -0.398008  ...      1.511870      -0.023974         1.347475   \n",
              "3                4.910919  ...     -0.281464       0.133984        -0.249939   \n",
              "4               -0.562450  ...      1.298575      -1.466770         1.338539   \n",
              "\n",
              "   worst area  worst smoothness  worst compactness  worst concavity  \\\n",
              "0    2.001237          1.307686           2.616665         2.109526   \n",
              "1    1.890489         -0.375612          -0.430444        -0.146749   \n",
              "2    1.456285          0.527407           1.082932         0.854974   \n",
              "3   -0.550021          3.394275           3.893397         1.989588   \n",
              "4    1.220724          0.220556          -0.313395         0.613179   \n",
              "\n",
              "   worst concave points  worst symmetry  worst fractal dimension  \n",
              "0              2.296076        2.750622                 1.937015  \n",
              "1              1.087084       -0.243890                 0.281190  \n",
              "2              1.955000        1.152255                 0.201391  \n",
              "3              2.175786        6.046041                 4.935010  \n",
              "4              0.729259       -0.868353                -0.397100  \n",
              "\n",
              "[5 rows x 30 columns]"
            ]
          },
          "execution_count": 4,
          "metadata": {},
          "output_type": "execute_result"
        }
      ],
      "source": [
        "# Convert the scaled array back to a DataFrame for easier viewing\n",
        "X_scaled_df = pd.DataFrame(X_scaled, columns=X.columns)\n",
        "X_scaled_df.head()\n"
      ]
    },
    {
      "cell_type": "markdown",
      "id": "cd731118-14fd-4d51-9340-f45d3165d0c1",
      "metadata": {
        "id": "cd731118-14fd-4d51-9340-f45d3165d0c1"
      },
      "source": [
        "Preprocessing Explanation\n",
        "\n",
        "1.No missing values: No imputation needed.\n",
        "\n",
        "2.StandardScaler used to bring all features to the same scale with mean = 0 and std = 1.\n",
        "\n",
        "3.Especially necessary for distance-based models like k-NN and margin-based models like SVM.\n"
      ]
    },
    {
      "cell_type": "code",
      "execution_count": null,
      "id": "6c94b86c-8f70-4a0b-8ad6-c096d638a5d1",
      "metadata": {
        "id": "6c94b86c-8f70-4a0b-8ad6-c096d638a5d1"
      },
      "outputs": [],
      "source": [
        "\n",
        "2. Classification Algorithm Implementation"
      ]
    },
    {
      "cell_type": "code",
      "execution_count": null,
      "id": "62b4322f-03d2-4f4f-892f-0da03f830ded",
      "metadata": {
        "id": "62b4322f-03d2-4f4f-892f-0da03f830ded"
      },
      "outputs": [],
      "source": [
        "from sklearn.model_selection import train_test_split\n",
        "\n",
        "X_train, X_test, y_train, y_test = train_test_split(\n",
        "    X_scaled, y, test_size=0.2, random_state=42)\n"
      ]
    },
    {
      "cell_type": "code",
      "execution_count": null,
      "id": "5753b981-c5df-464f-ae64-3dc19514498f",
      "metadata": {
        "id": "5753b981-c5df-464f-ae64-3dc19514498f"
      },
      "outputs": [],
      "source": [
        "#Define a function to train and evaluate models\n",
        "\n",
        "from sklearn.metrics import accuracy_score\n",
        "\n",
        "def evaluate_model(model, name):\n",
        "    model.fit(X_train, y_train)\n",
        "    y_pred = model.predict(X_test)\n",
        "    acc = accuracy_score(y_test, y_pred)\n",
        "    print(f\"{name} Accuracy: {acc:.4f}\")\n",
        "    return acc\n"
      ]
    },
    {
      "cell_type": "code",
      "execution_count": null,
      "id": "1f60d85b-e24b-49e2-8ca7-1f5ba5255c10",
      "metadata": {
        "id": "1f60d85b-e24b-49e2-8ca7-1f5ba5255c10",
        "outputId": "e6a3a81c-ce5e-434f-db56-a5b63c90d8b0"
      },
      "outputs": [
        {
          "name": "stdout",
          "output_type": "stream",
          "text": [
            "Logistic Regression Accuracy: 0.9737\n"
          ]
        },
        {
          "data": {
            "text/plain": [
              "0.9736842105263158"
            ]
          },
          "execution_count": 7,
          "metadata": {},
          "output_type": "execute_result"
        }
      ],
      "source": [
        "#Logistic Regression\n",
        "\n",
        "from sklearn.linear_model import LogisticRegression\n",
        "evaluate_model(LogisticRegression(), \"Logistic Regression\")\n"
      ]
    },
    {
      "cell_type": "markdown",
      "id": "f9023c04-8d5e-432e-b4e7-40b6031526f5",
      "metadata": {
        "id": "f9023c04-8d5e-432e-b4e7-40b6031526f5"
      },
      "source": [
        "Description: Linear model that estimates probabilities using a sigmoid function. Well-suited for binary classification tasks like this one.\n",
        "\n"
      ]
    },
    {
      "cell_type": "code",
      "execution_count": null,
      "id": "767205d7-8d10-426b-a79f-ff93c44f5f41",
      "metadata": {
        "id": "767205d7-8d10-426b-a79f-ff93c44f5f41",
        "outputId": "d9dbe951-2e4f-4146-9172-ec600b9cc7fd"
      },
      "outputs": [
        {
          "name": "stdout",
          "output_type": "stream",
          "text": [
            "Decision Tree Accuracy: 0.9474\n"
          ]
        },
        {
          "data": {
            "text/plain": [
              "0.9473684210526315"
            ]
          },
          "execution_count": 8,
          "metadata": {},
          "output_type": "execute_result"
        }
      ],
      "source": [
        "#Decision Tree Classifier\n",
        "\n",
        "from sklearn.tree import DecisionTreeClassifier\n",
        "evaluate_model(DecisionTreeClassifier(random_state=42), \"Decision Tree\")\n"
      ]
    },
    {
      "cell_type": "markdown",
      "id": "3518d037-c1f7-4fd9-9214-80d3f434641c",
      "metadata": {
        "id": "3518d037-c1f7-4fd9-9214-80d3f434641c"
      },
      "source": [
        "Description: Non-linear model that splits data based on feature values. Easy to interpret and handles non-linearities well.\n"
      ]
    },
    {
      "cell_type": "code",
      "execution_count": null,
      "id": "0584e8ea-0abb-4ef8-ac2b-45eda4eef460",
      "metadata": {
        "id": "0584e8ea-0abb-4ef8-ac2b-45eda4eef460",
        "outputId": "e2d8a04d-643e-4e5d-e1fe-42d5acb9fc50"
      },
      "outputs": [
        {
          "name": "stdout",
          "output_type": "stream",
          "text": [
            "Random Forest Accuracy: 0.9649\n"
          ]
        },
        {
          "data": {
            "text/plain": [
              "0.9649122807017544"
            ]
          },
          "execution_count": 9,
          "metadata": {},
          "output_type": "execute_result"
        }
      ],
      "source": [
        "#Random Forest Classifier\n",
        "\n",
        "from sklearn.ensemble import RandomForestClassifier\n",
        "evaluate_model(RandomForestClassifier(random_state=42), \"Random Forest\")\n"
      ]
    },
    {
      "cell_type": "markdown",
      "id": "004fa7e7-4afc-4caf-9f85-09fe65ce62d8",
      "metadata": {
        "id": "004fa7e7-4afc-4caf-9f85-09fe65ce62d8"
      },
      "source": [
        "Description: Ensemble of decision trees that reduces overfitting and improves accuracy. Robust and effective\n"
      ]
    },
    {
      "cell_type": "code",
      "execution_count": null,
      "id": "0088a65c-cf80-465a-abe0-a9fc0e2e44b9",
      "metadata": {
        "id": "0088a65c-cf80-465a-abe0-a9fc0e2e44b9",
        "outputId": "fa5d68c0-43fc-48ab-8f17-73cb9f283114"
      },
      "outputs": [
        {
          "name": "stdout",
          "output_type": "stream",
          "text": [
            "SVM Accuracy: 0.9737\n"
          ]
        },
        {
          "data": {
            "text/plain": [
              "0.9736842105263158"
            ]
          },
          "execution_count": 10,
          "metadata": {},
          "output_type": "execute_result"
        }
      ],
      "source": [
        "#Support Vector Machine (SVM)\n",
        "\n",
        "from sklearn.svm import SVC\n",
        "evaluate_model(SVC(), \"SVM\")\n"
      ]
    },
    {
      "cell_type": "markdown",
      "id": "14e377fe-1c35-4af9-a90f-da3e5929ad50",
      "metadata": {
        "id": "14e377fe-1c35-4af9-a90f-da3e5929ad50"
      },
      "source": [
        "Description: Finds an optimal hyperplane to separate classes. Effective in high-dimensional spaces.\n",
        "\n"
      ]
    },
    {
      "cell_type": "code",
      "execution_count": null,
      "id": "51941d99-4392-4c85-b05a-0c8377e40fe8",
      "metadata": {
        "id": "51941d99-4392-4c85-b05a-0c8377e40fe8",
        "outputId": "5a346ad1-b9f5-456f-d8a6-590752e63ad7"
      },
      "outputs": [
        {
          "name": "stdout",
          "output_type": "stream",
          "text": [
            "k-NN Accuracy: 0.9474\n"
          ]
        },
        {
          "data": {
            "text/plain": [
              "0.9473684210526315"
            ]
          },
          "execution_count": 11,
          "metadata": {},
          "output_type": "execute_result"
        }
      ],
      "source": [
        "#k-Nearest Neighbors (k-NN)\n",
        "\n",
        "from sklearn.neighbors import KNeighborsClassifier\n",
        "evaluate_model(KNeighborsClassifier(), \"k-NN\")\n"
      ]
    },
    {
      "cell_type": "markdown",
      "id": "0a25c446-ab87-4e8d-94c0-96f03b63d4cf",
      "metadata": {
        "id": "0a25c446-ab87-4e8d-94c0-96f03b63d4cf"
      },
      "source": [
        "\n",
        "3. Model Comparison"
      ]
    },
    {
      "cell_type": "code",
      "execution_count": null,
      "id": "a56ecc77-c28b-4f0b-8a02-68e28191e612",
      "metadata": {
        "id": "a56ecc77-c28b-4f0b-8a02-68e28191e612",
        "outputId": "b777b91d-125e-45f5-f692-adfdaa7bb64d"
      },
      "outputs": [
        {
          "name": "stdout",
          "output_type": "stream",
          "text": [
            "Logistic Regression Accuracy: 0.9737\n",
            "Decision Tree Accuracy: 0.9474\n",
            "Random Forest Accuracy: 0.9649\n",
            "SVM Accuracy: 0.9737\n",
            "k-NN Accuracy: 0.9474\n"
          ]
        },
        {
          "data": {
            "image/png": "[encoded data removed]",
            "text/plain": [
              "<Figure size 1000x600 with 1 Axes>"
            ]
          },
          "metadata": {},
          "output_type": "display_data"
        }
      ],
      "source": [
        "\n",
        "models = {\n",
        "    \"Logistic Regression\": LogisticRegression(),\n",
        "    \"Decision Tree\": DecisionTreeClassifier(random_state=42),\n",
        "    \"Random Forest\": RandomForestClassifier(random_state=42),\n",
        "    \"SVM\": SVC(),\n",
        "    \"k-NN\": KNeighborsClassifier()\n",
        "}\n",
        "\n",
        "results = {}\n",
        "for name, model in models.items():\n",
        "    acc = evaluate_model(model, name)\n",
        "    results[name] = acc\n",
        "\n",
        "# Plotting\n",
        "import matplotlib.pyplot as plt\n",
        "\n",
        "plt.figure(figsize=(10, 6))\n",
        "plt.bar(results.keys(), results.values(), color='skyblue')\n",
        "plt.title('Model Accuracy Comparison')\n",
        "plt.ylabel('Accuracy')\n",
        "plt.xticks(rotation=45)\n",
        "plt.show()\n"
      ]
    },
    {
      "cell_type": "markdown",
      "id": "d704bfce-e353-4daa-80ba-d6b77af084fc",
      "metadata": {
        "id": "d704bfce-e353-4daa-80ba-d6b77af084fc"
      },
      "source": [
        "\n",
        "Best and Worst Performing Models"
      ]
    },
    {
      "cell_type": "code",
      "execution_count": null,
      "id": "d71e8543-d6bd-414d-a8aa-44aae96a8457",
      "metadata": {
        "id": "d71e8543-d6bd-414d-a8aa-44aae96a8457",
        "outputId": "1812a5a3-7c3b-4b60-8a20-5f3352ccf045"
      },
      "outputs": [
        {
          "name": "stdout",
          "output_type": "stream",
          "text": [
            "Best performing model: Logistic Regression\n",
            "Worst performing model: Decision Tree\n"
          ]
        }
      ],
      "source": [
        "best_model = max(results, key=results.get)\n",
        "worst_model = min(results, key=results.get)\n",
        "print(f\"Best performing model: {best_model}\")\n",
        "print(f\"Worst performing model: {worst_model}\")\n"
      ]
    },
    {
      "cell_type": "code",
      "execution_count": null,
      "id": "c37ca0c3-69ae-4122-973b-0eb79dbdd151",
      "metadata": {
        "id": "c37ca0c3-69ae-4122-973b-0eb79dbdd151"
      },
      "outputs": [],
      "source": []
    }
  ],
  "metadata": {
    "kernelspec": {
      "display_name": "Python [conda env:base] *",
      "language": "python",
      "name": "conda-base-py"
    },
    "language_info": {
      "codemirror_mode": {
        "name": "ipython",
        "version": 3
      },
      "file_extension": ".py",
      "mimetype": "text/x-python",
      "name": "python",
      "nbconvert_exporter": "python",
      "pygments_lexer": "ipython3",
      "version": "3.12.7"
    },
    "colab": {
      "provenance": [],
      "include_colab_link": true
    }
  },
  "nbformat": 4,
  "nbformat_minor": 5
}